{
  "nbformat": 4,
  "nbformat_minor": 0,
  "metadata": {
    "colab": {
      "provenance": [],
      "authorship_tag": "ABX9TyMRn9mFV5VG8Hnj4DVREQWS",
      "include_colab_link": true
    },
    "kernelspec": {
      "name": "python3",
      "display_name": "Python 3"
    },
    "language_info": {
      "name": "python"
    }
  },
  "cells": [
    {
      "cell_type": "markdown",
      "metadata": {
        "id": "view-in-github",
        "colab_type": "text"
      },
      "source": [
        "<a href=\"https://colab.research.google.com/github/Kenuuey/LLMs/blob/main/LangGraph.ipynb\" target=\"_parent\"><img src=\"https://colab.research.google.com/assets/colab-badge.svg\" alt=\"Open In Colab\"/></a>"
      ]
    },
    {
      "cell_type": "markdown",
      "source": [
        "### Type Annotations"
      ],
      "metadata": {
        "id": "cRXOB7Sp_GZN"
      }
    },
    {
      "cell_type": "markdown",
      "source": [
        "Union"
      ],
      "metadata": {
        "id": "wE-qvdfW99si"
      }
    },
    {
      "cell_type": "code",
      "execution_count": 6,
      "metadata": {
        "colab": {
          "base_uri": "https://localhost:8080/"
        },
        "id": "Ljt4gpow90Ze",
        "outputId": "0a9bc8cd-db90-43a2-b169-28ff6fa75c07"
      },
      "outputs": [
        {
          "output_type": "stream",
          "name": "stdout",
          "text": [
            "25\n",
            "1.522756\n"
          ]
        }
      ],
      "source": [
        "from typing import Union\n",
        "\n",
        "def square(x: Union[int, float]) -> float:\n",
        "  return x * x\n",
        "\n",
        "x = 5\n",
        "print(square(x))\n",
        "\n",
        "x = 1.234\n",
        "print(square(x))\n",
        "\n",
        "x = \"I am a string\"\n",
        "# print(square(x))"
      ]
    },
    {
      "cell_type": "markdown",
      "source": [
        "Optional"
      ],
      "metadata": {
        "id": "D5f2jEaK-YDe"
      }
    },
    {
      "cell_type": "code",
      "source": [
        "from typing import Optional\n",
        "\n",
        "def nice_message(name: Optional[str]) -> None:\n",
        "  if name is None:\n",
        "    print(\"Hey random person!\")\n",
        "  else:\n",
        "    print(f\"Hi there, {name}!\")\n",
        "\n",
        "s = 'user'\n",
        "print(nice_message(s))\n",
        "\n",
        "s = None\n",
        "print(nice_message(s))"
      ],
      "metadata": {
        "colab": {
          "base_uri": "https://localhost:8080/"
        },
        "id": "v_dMVNc8-AZ9",
        "outputId": "7d1e8d92-a2e7-47e9-83b7-e23278a55780"
      },
      "execution_count": 13,
      "outputs": [
        {
          "output_type": "stream",
          "name": "stdout",
          "text": [
            "Hi there, user!\n",
            "None\n",
            "Hey random person!\n",
            "None\n"
          ]
        }
      ]
    },
    {
      "cell_type": "markdown",
      "source": [
        "Any"
      ],
      "metadata": {
        "id": "-G23kg3m-06m"
      }
    },
    {
      "cell_type": "code",
      "source": [
        "from typing import Any\n",
        "\n",
        "def print_value(x: Any):\n",
        "  print(x)\n",
        "\n",
        "print_value('Hesufnadofudsfn')\n",
        "print_value(2314412)\n",
        "print_value(5.1514)"
      ],
      "metadata": {
        "colab": {
          "base_uri": "https://localhost:8080/"
        },
        "id": "aZIO8s0q-1yk",
        "outputId": "b36ee643-d7f7-4572-f109-8a100f5404ea"
      },
      "execution_count": 17,
      "outputs": [
        {
          "output_type": "stream",
          "name": "stdout",
          "text": [
            "Hesufnadofudsfn\n",
            "2314412\n",
            "5.1514\n"
          ]
        }
      ]
    },
    {
      "cell_type": "markdown",
      "source": [
        "Lambda Function"
      ],
      "metadata": {
        "id": "wKILcTXC_KGI"
      }
    },
    {
      "cell_type": "code",
      "source": [
        "square = lambda x: x * x\n",
        "\n",
        "square(10)"
      ],
      "metadata": {
        "colab": {
          "base_uri": "https://localhost:8080/"
        },
        "id": "_Qhc6V7O_L3r",
        "outputId": "3bc0774b-3a47-4b9b-8236-0371e11b1598"
      },
      "execution_count": 18,
      "outputs": [
        {
          "output_type": "execute_result",
          "data": {
            "text/plain": [
              "100"
            ]
          },
          "metadata": {},
          "execution_count": 18
        }
      ]
    },
    {
      "cell_type": "code",
      "source": [
        "nums = [1, 2, 3, 4]\n",
        "\n",
        "squares = list(map(lambda x: x * x, nums))\n",
        "\n",
        "squares"
      ],
      "metadata": {
        "colab": {
          "base_uri": "https://localhost:8080/"
        },
        "id": "V0yq4oTQ_QCt",
        "outputId": "b3fa2823-d38b-4019-e738-169c146510d1"
      },
      "execution_count": 20,
      "outputs": [
        {
          "output_type": "execute_result",
          "data": {
            "text/plain": [
              "[1, 4, 9, 16]"
            ]
          },
          "metadata": {},
          "execution_count": 20
        }
      ]
    },
    {
      "cell_type": "markdown",
      "source": [
        "### Agent 1"
      ],
      "metadata": {
        "id": "Xf_j8oeF_jdj"
      }
    },
    {
      "cell_type": "code",
      "source": [
        "!pip install -qqq langgraph"
      ],
      "metadata": {
        "id": "jreQZJllCfbw"
      },
      "execution_count": null,
      "outputs": []
    },
    {
      "cell_type": "code",
      "source": [
        "from typing import Dict, TypedDict\n",
        "from langgraph.graph import StateGraph"
      ],
      "metadata": {
        "id": "PwujxkBg_mHg"
      },
      "execution_count": 26,
      "outputs": []
    },
    {
      "cell_type": "code",
      "source": [
        "class AgentState(TypedDict): # state schema\n",
        "  message : str\n",
        "\n",
        "\n",
        "def greeting_node(state: AgentState) -> AgentState:\n",
        "  \"\"\"Simple node that adds a greeting message to the state\"\"\"\n",
        "  state['message'] = 'Hey ' + state['message'] + ', how is your day going?'\n",
        "  return state\n",
        "\n",
        "def compliment_node(state: AgentState) -> AgentState:\n",
        "  \"\"\"Node that adds a personalized compliment agent\"\"\"\n",
        "  state['message'] = state['message'] + ' Nice to meet you!'\n",
        "  return state"
      ],
      "metadata": {
        "id": "byIWez-gGY-m"
      },
      "execution_count": 62,
      "outputs": []
    },
    {
      "cell_type": "code",
      "source": [
        "graph = StateGraph(AgentState)\n",
        "\n",
        "graph.add_node('greeter', greeting_node)\n",
        "graph.add_node('compliment', compliment_node)\n",
        "\n",
        "graph.add_edge('greeter', 'compliment')\n",
        "\n",
        "graph.set_entry_point('greeter')\n",
        "graph.set_finish_point('greeter')\n",
        "\n",
        "app = graph.compile()"
      ],
      "metadata": {
        "id": "lqsoJbzKDZ8a"
      },
      "execution_count": 63,
      "outputs": []
    },
    {
      "cell_type": "code",
      "source": [
        "from IPython.display import Image, display\n",
        "\n",
        "display(Image(app.get_graph().draw_mermaid_png()))"
      ],
      "metadata": {
        "colab": {
          "base_uri": "https://localhost:8080/",
          "height": 350
        },
        "id": "Aqx_x2ZDEWz3",
        "outputId": "678a5ba5-3b67-4cad-838a-293b59e0bc20"
      },
      "execution_count": 64,
      "outputs": [
        {
          "output_type": "display_data",
          "data": {
            "image/png": "[encoded data removed]",
            "text/plain": [
              "<IPython.core.display.Image object>"
            ]
          },
          "metadata": {}
        }
      ]
    },
    {
      "cell_type": "code",
      "source": [
        "result = app.invoke({'message': 'Bob'})\n",
        "print(result['message'])"
      ],
      "metadata": {
        "colab": {
          "base_uri": "https://localhost:8080/"
        },
        "id": "o_VoMi5xEgNR",
        "outputId": "7d163138-8fd3-4c93-87f3-35056bb37a81"
      },
      "execution_count": 65,
      "outputs": [
        {
          "output_type": "stream",
          "name": "stdout",
          "text": [
            "Hey Bob, how is your day going? Nice to meet you!\n"
          ]
        }
      ]
    },
    {
      "cell_type": "markdown",
      "source": [
        "### Agent 2"
      ],
      "metadata": {
        "id": "8Cci2wpSHA1m"
      }
    },
    {
      "cell_type": "code",
      "source": [
        "from typing import Dict, TypedDict, List\n",
        "from langgraph.graph import StateGraph\n",
        "from functools import reduce\n",
        "from operator import mul\n",
        "import math\n"
      ],
      "metadata": {
        "id": "WVp0MWd_HBwW"
      },
      "execution_count": 161,
      "outputs": []
    },
    {
      "cell_type": "code",
      "source": [
        "class AgentState(TypedDict):\n",
        "  name: str\n",
        "  operation: str\n",
        "  values: List[int]\n",
        "  result: str"
      ],
      "metadata": {
        "id": "qRV3hCjVHmSD"
      },
      "execution_count": 128,
      "outputs": []
    },
    {
      "cell_type": "code",
      "source": [
        "def process_values(state: AgentState) -> AgentState:\n",
        "  \"\"\"This function handles multiple different inputs\"\"\"\n",
        "  print(state)\n",
        "\n",
        "  if state[\"operation\"] == '+':\n",
        "    state[\"result\"] = f'Hi there {state[\"name\"]}! Your answer = {sum(state[\"values\"])}'\n",
        "  elif state[\"operation\"] == '*':\n",
        "    # state[\"result\"] = f'Hi there {state[\"name\"]}! Your answer = {reduce(mul, state[\"values\"])}'\n",
        "    state[\"result\"] = f'Hi there {state[\"name\"]}! Your answer = {math.prod(state[\"values\"])}'\n",
        "\n",
        "  print(state)\n",
        "  return state"
      ],
      "metadata": {
        "id": "EqFXtoNeILgR"
      },
      "execution_count": 162,
      "outputs": []
    },
    {
      "cell_type": "code",
      "source": [
        "graph = StateGraph(AgentState)\n",
        "\n",
        "graph.add_node('processor', process_values)\n",
        "\n",
        "graph.set_entry_point('processor')\n",
        "graph.set_finish_point('processor')\n",
        "\n",
        "app = graph.compile()"
      ],
      "metadata": {
        "id": "GlN_yJ0_ItjH"
      },
      "execution_count": 163,
      "outputs": []
    },
    {
      "cell_type": "code",
      "source": [
        "from IPython.display import Image, display\n",
        "\n",
        "display(Image(app.get_graph().draw_mermaid_png()))"
      ],
      "metadata": {
        "colab": {
          "base_uri": "https://localhost:8080/",
          "height": 251
        },
        "id": "4lNAu4m-JAct",
        "outputId": "3ac39653-8bc3-47ab-e0f1-ef4fb1cbc754"
      },
      "execution_count": 164,
      "outputs": [
        {
          "output_type": "display_data",
          "data": {
            "image/png": "[encoded data removed]",
            "text/plain": [
              "<IPython.core.display.Image object>"
            ]
          },
          "metadata": {}
        }
      ]
    },
    {
      "cell_type": "code",
      "source": [
        "answers = app.invoke({\"values\": [1, 2, 3, 4], \"name\": \"Steve\", \"operation\": \"+\"})"
      ],
      "metadata": {
        "colab": {
          "base_uri": "https://localhost:8080/"
        },
        "id": "2Ivs9QLRJB1k",
        "outputId": "2b5d3c84-2518-4073-c9f4-aac704f7a398"
      },
      "execution_count": 165,
      "outputs": [
        {
          "output_type": "stream",
          "name": "stdout",
          "text": [
            "{'name': 'Steve', 'operation': '+', 'values': [1, 2, 3, 4]}\n",
            "{'name': 'Steve', 'operation': '+', 'values': [1, 2, 3, 4], 'result': 'Hi there Steve! Your answer = 10'}\n"
          ]
        }
      ]
    },
    {
      "cell_type": "code",
      "source": [
        "print(answers['result'])"
      ],
      "metadata": {
        "colab": {
          "base_uri": "https://localhost:8080/"
        },
        "id": "B3wK5A5WKvm2",
        "outputId": "f59f597d-c379-4130-c475-6938213c5688"
      },
      "execution_count": 166,
      "outputs": [
        {
          "output_type": "stream",
          "name": "stdout",
          "text": [
            "Hi there Steve! Your answer = 10\n"
          ]
        }
      ]
    },
    {
      "cell_type": "code",
      "source": [
        "answers = app.invoke({\"values\": [1, 2, 3, 4], \"name\": \"Steve\", \"operation\": \"*\"})"
      ],
      "metadata": {
        "colab": {
          "base_uri": "https://localhost:8080/"
        },
        "id": "nGqfwKlTMYgn",
        "outputId": "2dcb74d3-45e1-4a63-ab18-a4d6f80713bd"
      },
      "execution_count": 167,
      "outputs": [
        {
          "output_type": "stream",
          "name": "stdout",
          "text": [
            "{'name': 'Steve', 'operation': '*', 'values': [1, 2, 3, 4]}\n",
            "{'name': 'Steve', 'operation': '*', 'values': [1, 2, 3, 4], 'result': 'Hi there Steve! Your answer = 24'}\n"
          ]
        }
      ]
    },
    {
      "cell_type": "code",
      "source": [
        "print(answers['result'])"
      ],
      "metadata": {
        "colab": {
          "base_uri": "https://localhost:8080/"
        },
        "id": "5glIEv-8MZVM",
        "outputId": "a8ae2ad4-36e8-4ccb-930d-ce8d26283fa9"
      },
      "execution_count": 168,
      "outputs": [
        {
          "output_type": "stream",
          "name": "stdout",
          "text": [
            "Hi there Steve! Your answer = 24\n"
          ]
        }
      ]
    },
    {
      "cell_type": "markdown",
      "source": [
        "### Agent 3"
      ],
      "metadata": {
        "id": "Y-MhQkj2Ny8h"
      }
    },
    {
      "cell_type": "code",
      "source": [],
      "metadata": {
        "id": "BMVDW61INz71"
      },
      "execution_count": null,
      "outputs": []
    }
  ]
}