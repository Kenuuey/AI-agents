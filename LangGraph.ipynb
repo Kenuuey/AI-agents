{
  "nbformat": 4,
  "nbformat_minor": 0,
  "metadata": {
    "colab": {
      "provenance": [],
      "authorship_tag": "ABX9TyNYCC3Ia/hyuzSNnzBnASw9",
      "include_colab_link": true
    },
    "kernelspec": {
      "name": "python3",
      "display_name": "Python 3"
    },
    "language_info": {
      "name": "python"
    }
  },
  "cells": [
    {
      "cell_type": "markdown",
      "metadata": {
        "id": "view-in-github",
        "colab_type": "text"
      },
      "source": [
        "<a href=\"https://colab.research.google.com/github/Kenuuey/LLMs/blob/main/LangGraph.ipynb\" target=\"_parent\"><img src=\"https://colab.research.google.com/assets/colab-badge.svg\" alt=\"Open In Colab\"/></a>"
      ]
    },
    {
      "cell_type": "markdown",
      "source": [
        "### Agent 1"
      ],
      "metadata": {
        "id": "Xf_j8oeF_jdj"
      }
    },
    {
      "cell_type": "code",
      "source": [
        "!pip install -qqq langgraph"
      ],
      "metadata": {
        "id": "jreQZJllCfbw",
        "colab": {
          "base_uri": "https://localhost:8080/"
        },
        "outputId": "158c4461-fe31-416c-9b7a-a776aedf8c0e"
      },
      "execution_count": 1,
      "outputs": [
        {
          "output_type": "stream",
          "name": "stdout",
          "text": [
            "\u001b[2K     \u001b[90m━━━━━━━━━━━━━━━━━━━━━━━━━━━━━━━━━━━━━━━━\u001b[0m \u001b[32m43.7/43.7 kB\u001b[0m \u001b[31m2.5 MB/s\u001b[0m eta \u001b[36m0:00:00\u001b[0m\n",
            "\u001b[2K   \u001b[90m━━━━━━━━━━━━━━━━━━━━━━━━━━━━━━━━━━━━━━━━\u001b[0m \u001b[32m153.2/153.2 kB\u001b[0m \u001b[31m5.4 MB/s\u001b[0m eta \u001b[36m0:00:00\u001b[0m\n",
            "\u001b[2K   \u001b[90m━━━━━━━━━━━━━━━━━━━━━━━━━━━━━━━━━━━━━━━━\u001b[0m \u001b[32m43.9/43.9 kB\u001b[0m \u001b[31m2.3 MB/s\u001b[0m eta \u001b[36m0:00:00\u001b[0m\n",
            "\u001b[2K   \u001b[90m━━━━━━━━━━━━━━━━━━━━━━━━━━━━━━━━━━━━━━━━\u001b[0m \u001b[32m50.6/50.6 kB\u001b[0m \u001b[31m2.8 MB/s\u001b[0m eta \u001b[36m0:00:00\u001b[0m\n",
            "\u001b[2K   \u001b[90m━━━━━━━━━━━━━━━━━━━━━━━━━━━━━━━━━━━━━━━━\u001b[0m \u001b[32m216.5/216.5 kB\u001b[0m \u001b[31m12.6 MB/s\u001b[0m eta \u001b[36m0:00:00\u001b[0m\n",
            "\u001b[?25h"
          ]
        }
      ]
    },
    {
      "cell_type": "code",
      "source": [
        "from typing import Dict, TypedDict\n",
        "from langgraph.graph import StateGraph"
      ],
      "metadata": {
        "id": "PwujxkBg_mHg"
      },
      "execution_count": 2,
      "outputs": []
    },
    {
      "cell_type": "code",
      "source": [
        "class AgentState(TypedDict): # state schema\n",
        "  message : str\n",
        "\n",
        "\n",
        "def greeting_node(state: AgentState) -> AgentState:\n",
        "  \"\"\"Simple node that adds a greeting message to the state\"\"\"\n",
        "  state['message'] = 'Hey ' + state['message'] + ', how is your day going?'\n",
        "  return state\n",
        "\n",
        "def compliment_node(state: AgentState) -> AgentState:\n",
        "  \"\"\"Node that adds a personalized compliment agent\"\"\"\n",
        "  state['message'] = state['message'] + ' Nice to meet you!'\n",
        "  return state"
      ],
      "metadata": {
        "id": "byIWez-gGY-m"
      },
      "execution_count": null,
      "outputs": []
    },
    {
      "cell_type": "code",
      "source": [
        "graph = StateGraph(AgentState)\n",
        "\n",
        "graph.add_node('greeter', greeting_node)\n",
        "graph.add_node('compliment', compliment_node)\n",
        "\n",
        "graph.add_edge('greeter', 'compliment')\n",
        "\n",
        "graph.set_entry_point('greeter')\n",
        "graph.set_finish_point('greeter')\n",
        "\n",
        "app = graph.compile()"
      ],
      "metadata": {
        "id": "lqsoJbzKDZ8a"
      },
      "execution_count": null,
      "outputs": []
    },
    {
      "cell_type": "code",
      "source": [
        "from IPython.display import Image, display\n",
        "\n",
        "display(Image(app.get_graph().draw_mermaid_png()))"
      ],
      "metadata": {
        "colab": {
          "base_uri": "https://localhost:8080/",
          "height": 350
        },
        "id": "Aqx_x2ZDEWz3",
        "outputId": "678a5ba5-3b67-4cad-838a-293b59e0bc20"
      },
      "execution_count": null,
      "outputs": [
        {
          "output_type": "display_data",
          "data": {
            "image/png": "[encoded data removed]",
            "text/plain": [
              "<IPython.core.display.Image object>"
            ]
          },
          "metadata": {}
        }
      ]
    },
    {
      "cell_type": "code",
      "source": [
        "result = app.invoke({'message': 'Bob'})\n",
        "print(result['message'])"
      ],
      "metadata": {
        "colab": {
          "base_uri": "https://localhost:8080/"
        },
        "id": "o_VoMi5xEgNR",
        "outputId": "7d163138-8fd3-4c93-87f3-35056bb37a81"
      },
      "execution_count": null,
      "outputs": [
        {
          "output_type": "stream",
          "name": "stdout",
          "text": [
            "Hey Bob, how is your day going? Nice to meet you!\n"
          ]
        }
      ]
    },
    {
      "cell_type": "markdown",
      "source": [
        "### Agent 2"
      ],
      "metadata": {
        "id": "8Cci2wpSHA1m"
      }
    },
    {
      "cell_type": "code",
      "source": [
        "from typing import Dict, TypedDict, List\n",
        "from langgraph.graph import StateGraph\n",
        "from functools import reduce\n",
        "from operator import mul\n",
        "import math\n"
      ],
      "metadata": {
        "id": "WVp0MWd_HBwW"
      },
      "execution_count": null,
      "outputs": []
    },
    {
      "cell_type": "code",
      "source": [
        "class AgentState(TypedDict):\n",
        "  name: str\n",
        "  operation: str\n",
        "  values: List[int]\n",
        "  result: str"
      ],
      "metadata": {
        "id": "qRV3hCjVHmSD"
      },
      "execution_count": null,
      "outputs": []
    },
    {
      "cell_type": "code",
      "source": [
        "def process_values(state: AgentState) -> AgentState:\n",
        "  \"\"\"This function handles multiple different inputs\"\"\"\n",
        "  print(state)\n",
        "\n",
        "  if state[\"operation\"] == '+':\n",
        "    state[\"result\"] = f'Hi there {state[\"name\"]}! Your answer = {sum(state[\"values\"])}'\n",
        "  elif state[\"operation\"] == '*':\n",
        "    # state[\"result\"] = f'Hi there {state[\"name\"]}! Your answer = {reduce(mul, state[\"values\"])}'\n",
        "    state[\"result\"] = f'Hi there {state[\"name\"]}! Your answer = {math.prod(state[\"values\"])}'\n",
        "\n",
        "  print(state)\n",
        "  return state"
      ],
      "metadata": {
        "id": "EqFXtoNeILgR"
      },
      "execution_count": null,
      "outputs": []
    },
    {
      "cell_type": "code",
      "source": [
        "graph = StateGraph(AgentState)\n",
        "\n",
        "graph.add_node('processor', process_values)\n",
        "\n",
        "graph.set_entry_point('processor')\n",
        "graph.set_finish_point('processor')\n",
        "\n",
        "app = graph.compile()"
      ],
      "metadata": {
        "id": "GlN_yJ0_ItjH"
      },
      "execution_count": null,
      "outputs": []
    },
    {
      "cell_type": "code",
      "source": [
        "from IPython.display import Image, display\n",
        "display(Image(app.get_graph().draw_mermaid_png()))"
      ],
      "metadata": {
        "colab": {
          "base_uri": "https://localhost:8080/",
          "height": 251
        },
        "id": "4lNAu4m-JAct",
        "outputId": "3ac39653-8bc3-47ab-e0f1-ef4fb1cbc754"
      },
      "execution_count": null,
      "outputs": [
        {
          "output_type": "display_data",
          "data": {
            "image/png": "[encoded data removed]",
            "text/plain": [
              "<IPython.core.display.Image object>"
            ]
          },
          "metadata": {}
        }
      ]
    },
    {
      "cell_type": "code",
      "source": [
        "answers = app.invoke({\"values\": [1, 2, 3, 4], \"name\": \"Steve\", \"operation\": \"+\"})"
      ],
      "metadata": {
        "colab": {
          "base_uri": "https://localhost:8080/"
        },
        "id": "2Ivs9QLRJB1k",
        "outputId": "2b5d3c84-2518-4073-c9f4-aac704f7a398"
      },
      "execution_count": null,
      "outputs": [
        {
          "output_type": "stream",
          "name": "stdout",
          "text": [
            "{'name': 'Steve', 'operation': '+', 'values': [1, 2, 3, 4]}\n",
            "{'name': 'Steve', 'operation': '+', 'values': [1, 2, 3, 4], 'result': 'Hi there Steve! Your answer = 10'}\n"
          ]
        }
      ]
    },
    {
      "cell_type": "code",
      "source": [
        "print(answers['result'])"
      ],
      "metadata": {
        "colab": {
          "base_uri": "https://localhost:8080/"
        },
        "id": "B3wK5A5WKvm2",
        "outputId": "f59f597d-c379-4130-c475-6938213c5688"
      },
      "execution_count": null,
      "outputs": [
        {
          "output_type": "stream",
          "name": "stdout",
          "text": [
            "Hi there Steve! Your answer = 10\n"
          ]
        }
      ]
    },
    {
      "cell_type": "code",
      "source": [
        "answers = app.invoke({\"values\": [1, 2, 3, 4], \"name\": \"Steve\", \"operation\": \"*\"})"
      ],
      "metadata": {
        "colab": {
          "base_uri": "https://localhost:8080/"
        },
        "id": "nGqfwKlTMYgn",
        "outputId": "2dcb74d3-45e1-4a63-ab18-a4d6f80713bd"
      },
      "execution_count": null,
      "outputs": [
        {
          "output_type": "stream",
          "name": "stdout",
          "text": [
            "{'name': 'Steve', 'operation': '*', 'values': [1, 2, 3, 4]}\n",
            "{'name': 'Steve', 'operation': '*', 'values': [1, 2, 3, 4], 'result': 'Hi there Steve! Your answer = 24'}\n"
          ]
        }
      ]
    },
    {
      "cell_type": "code",
      "source": [
        "print(answers['result'])"
      ],
      "metadata": {
        "colab": {
          "base_uri": "https://localhost:8080/"
        },
        "id": "5glIEv-8MZVM",
        "outputId": "a8ae2ad4-36e8-4ccb-930d-ce8d26283fa9"
      },
      "execution_count": null,
      "outputs": [
        {
          "output_type": "stream",
          "name": "stdout",
          "text": [
            "Hi there Steve! Your answer = 24\n"
          ]
        }
      ]
    },
    {
      "cell_type": "markdown",
      "source": [
        "### Agent 3"
      ],
      "metadata": {
        "id": "Y-MhQkj2Ny8h"
      }
    },
    {
      "cell_type": "code",
      "source": [
        "from typing import TypedDict, List\n",
        "from langgraph.graph import StateGraph"
      ],
      "metadata": {
        "id": "BMVDW61INz71"
      },
      "execution_count": null,
      "outputs": []
    },
    {
      "cell_type": "code",
      "source": [
        "class AgentState(TypedDict):\n",
        "  name: str\n",
        "  age: str\n",
        "  skills: List[str]\n",
        "  final: str"
      ],
      "metadata": {
        "id": "4jwe_FDGds63"
      },
      "execution_count": null,
      "outputs": []
    },
    {
      "cell_type": "code",
      "source": [
        "def first_node(state: AgentState) -> AgentState:\n",
        "  \"\"\"This is the first node of our sequence\"\"\"\n",
        "  state[\"final\"] = f\"Hi {state['name']}!\"\n",
        "  return state\n",
        "\n",
        "def second_node(state: AgentState) -> AgentState:\n",
        "  \"\"\"This is the second node of our sequence\"\"\"\n",
        "  state[\"final\"] += f\" You are {state['age']} years old!\"\n",
        "  return state\n",
        "\n",
        "def third_node(state: AgentState) -> AgentState:\n",
        "  \"\"\"This is the third node of our sequence\"\"\"\n",
        "  if state['skills']:\n",
        "        skills_str = \", \".join(state['skills'])\n",
        "        state[\"final\"] += f\" You have skills in {skills_str}.\"\n",
        "  else:\n",
        "      state[\"final\"] += \" You have no listed skills.\"\n",
        "  return state"
      ],
      "metadata": {
        "id": "I6G8TnsNd2Fg"
      },
      "execution_count": null,
      "outputs": []
    },
    {
      "cell_type": "code",
      "source": [
        "graph = StateGraph(AgentState)\n",
        "\n",
        "graph.add_node(\"first_node\", first_node)\n",
        "graph.add_node(\"second_node\", second_node)\n",
        "graph.add_node(\"third_node\", third_node)\n",
        "\n",
        "graph.set_entry_point(\"first_node\")\n",
        "graph.add_edge(\"first_node\", \"second_node\")\n",
        "graph.add_edge(\"second_node\", \"third_node\")\n",
        "graph.set_finish_point(\"third_node\")\n",
        "\n",
        "app = graph.compile()"
      ],
      "metadata": {
        "id": "wsR78XUsepqt"
      },
      "execution_count": null,
      "outputs": []
    },
    {
      "cell_type": "code",
      "source": [
        "from IPython.display import Image, display\n",
        "display(Image(app.get_graph().draw_mermaid_png()))"
      ],
      "metadata": {
        "colab": {
          "base_uri": "https://localhost:8080/",
          "height": 449
        },
        "id": "u5hny5O_fSms",
        "outputId": "a953031c-b4c1-48e9-b126-defbff72bfa3"
      },
      "execution_count": null,
      "outputs": [
        {
          "output_type": "display_data",
          "data": {
            "image/png": "[encoded data removed]",
            "text/plain": [
              "<IPython.core.display.Image object>"
            ]
          },
          "metadata": {}
        }
      ]
    },
    {
      "cell_type": "code",
      "source": [
        "result = app.invoke({\"name\": \"Charlie\", \"age\": \"20\", \"skills\": list()})\n",
        "print(result['final'])"
      ],
      "metadata": {
        "colab": {
          "base_uri": "https://localhost:8080/"
        },
        "id": "WIWOa0YUfmtO",
        "outputId": "933396e1-26cc-4443-82d0-2182d329080a"
      },
      "execution_count": null,
      "outputs": [
        {
          "output_type": "stream",
          "name": "stdout",
          "text": [
            "Hi Charlie! You are 20 years old! You have no listed skills.\n"
          ]
        }
      ]
    },
    {
      "cell_type": "code",
      "source": [
        "result = app.invoke({\"name\": \"Linda\", \"age\": \"31\", \"skills\": ['Python', 'Machine Learning', 'LangGraph']})\n",
        "print(result['final'])"
      ],
      "metadata": {
        "colab": {
          "base_uri": "https://localhost:8080/"
        },
        "id": "Xzorl2jdfxkH",
        "outputId": "781cd4f8-dc04-46a1-f53b-f734896e5d95"
      },
      "execution_count": null,
      "outputs": [
        {
          "output_type": "stream",
          "name": "stdout",
          "text": [
            "Hi Linda! You are 31 years old! You have skills in Python, Machine Learning, LangGraph.\n"
          ]
        }
      ]
    },
    {
      "cell_type": "markdown",
      "source": [
        "### Agent 4"
      ],
      "metadata": {
        "id": "PTrw3-67kEnH"
      }
    },
    {
      "cell_type": "code",
      "source": [
        "from typing import TypedDict\n",
        "from langgraph.graph import StateGraph, START, END"
      ],
      "metadata": {
        "id": "imOH1STnkHnt"
      },
      "execution_count": 3,
      "outputs": []
    },
    {
      "cell_type": "code",
      "source": [
        "class AgentState(TypedDict):\n",
        "  number1: int\n",
        "  operation: str\n",
        "  number2: int\n",
        "  finalNumber: int\n",
        "  number3: int\n",
        "  operation2: str\n",
        "  number4: int\n",
        "  finalNumber2: int"
      ],
      "metadata": {
        "id": "zsdaFoeHkkk0"
      },
      "execution_count": 20,
      "outputs": []
    },
    {
      "cell_type": "code",
      "source": [
        "def adder(state: AgentState) -> AgentState:\n",
        "  \"\"\"This node adds the 2 numbers\"\"\"\n",
        "  state['finalNumber'] = state['number1'] + state['number2']\n",
        "  return state\n",
        "\n",
        "def subtractor(state: AgentState) -> AgentState:\n",
        "  \"\"\"This node subtracts the 2 numbers\"\"\"\n",
        "  state['finalNumber'] = state['number1'] - state['number2']\n",
        "  return state\n",
        "\n",
        "def adder2(state: AgentState) -> AgentState:\n",
        "  \"\"\"This node adds the 2 numbers\"\"\"\n",
        "  state['finalNumber2'] = state['number3'] + state['number4']\n",
        "  return state\n",
        "\n",
        "def subtractor2(state: AgentState) -> AgentState:\n",
        "  \"\"\"This node subtracts the 2 numbers\"\"\"\n",
        "  state['finalNumber2'] = state['number3'] - state['number4']\n",
        "  return state\n",
        "\n",
        "def decide_next_node(state: AgentState) -> str:\n",
        "  \"\"\"This node will select the next node of the graph\"\"\"\n",
        "  if state['operation'] == '+':\n",
        "    return \"addition_operation\"\n",
        "  elif state['operation'] == '-':\n",
        "    return \"subtract_operation\"\n",
        "\n",
        "def decide_next_node2(state: AgentState) -> str:\n",
        "  \"\"\"Router for the second operation\"\"\"\n",
        "  if state['operation2'] == '+':\n",
        "    return \"addition_operation\"\n",
        "  elif state['operation2'] == '-':\n",
        "    return \"subtract_operation\""
      ],
      "metadata": {
        "id": "h7PG_7OUkyvr"
      },
      "execution_count": 29,
      "outputs": []
    },
    {
      "cell_type": "code",
      "source": [
        "graph = StateGraph(AgentState)\n",
        "\n",
        "graph.add_node(\"router\", lambda state: state)\n",
        "graph.add_node(\"add_node\", adder)\n",
        "graph.add_node('subtract_node', subtractor)\n",
        "\n",
        "graph.add_node('router2', lambda state: state)\n",
        "graph.add_node(\"add_node2\", adder2)\n",
        "graph.add_node('subtract_node2', subtractor2)\n",
        "\n",
        "graph.add_edge(START, 'router')\n",
        "\n",
        "graph.add_conditional_edges(\n",
        "    'router',\n",
        "    decide_next_node,\n",
        "    {\n",
        "      'addition_operation': 'add_node',\n",
        "      'subtract_operation': 'subtract_node'\n",
        "    }\n",
        ")\n",
        "\n",
        "graph.add_edge('add_node', 'router2')\n",
        "graph.add_edge('subtract_node', 'router2')\n",
        "\n",
        "graph.add_conditional_edges(\n",
        "    'router2',\n",
        "    decide_next_node2,\n",
        "    {\n",
        "      'addition_operation': 'add_node2',\n",
        "      'subtract_operation': 'subtract_node2'\n",
        "    }\n",
        ")\n",
        "\n",
        "graph.add_edge('add_node2', END)\n",
        "graph.add_edge('subtract_node2', END)\n",
        "\n",
        "\n",
        "app = graph.compile()"
      ],
      "metadata": {
        "id": "vNE4CdHsl8Xh"
      },
      "execution_count": 37,
      "outputs": []
    },
    {
      "cell_type": "code",
      "source": [
        "from IPython.display import Image, display\n",
        "display(Image(app.get_graph().draw_mermaid_png()))"
      ],
      "metadata": {
        "colab": {
          "base_uri": "https://localhost:8080/",
          "height": 596
        },
        "id": "65zbOO5iwb6I",
        "outputId": "b5054c99-a0a2-4716-bc40-4af3c2f5ffe2"
      },
      "execution_count": 38,
      "outputs": [
        {
          "output_type": "display_data",
          "data": {
            "image/png": "[encoded data removed]",
            "text/plain": [
              "<IPython.core.display.Image object>"
            ]
          },
          "metadata": {}
        }
      ]
    },
    {
      "cell_type": "code",
      "source": [
        "state = AgentState(\n",
        "    number1=10, operation=\"-\", number2=5, finalNumber=0,\n",
        "    number3=7, operation2=\"+\", number4=3, finalNumber2=0\n",
        ")\n",
        "print(app.invoke(state))"
      ],
      "metadata": {
        "colab": {
          "base_uri": "https://localhost:8080/"
        },
        "id": "gmimcHru8I63",
        "outputId": "3305f214-c676-4e34-8cf8-61c81e9a9da4"
      },
      "execution_count": 39,
      "outputs": [
        {
          "output_type": "stream",
          "name": "stdout",
          "text": [
            "{'number1': 10, 'operation': '-', 'number2': 5, 'finalNumber': 5, 'number3': 7, 'operation2': '+', 'number4': 3, 'finalNumber2': 10}\n"
          ]
        }
      ]
    },
    {
      "cell_type": "markdown",
      "source": [
        "### Agent 5"
      ],
      "metadata": {
        "id": "FFar3hqV6jHI"
      }
    },
    {
      "cell_type": "code",
      "source": [
        "from langgraph.graph import StateGraph, END\n",
        "import random\n",
        "from typing import Dict, List, TypedDict"
      ],
      "metadata": {
        "id": "QPUN42z2_P5w"
      },
      "execution_count": 41,
      "outputs": []
    },
    {
      "cell_type": "code",
      "source": [
        "class AgentState(TypedDict):\n",
        "  name: str\n",
        "  number: List[int]\n",
        "  counter: int"
      ],
      "metadata": {
        "id": "pHBKb-W3_P5w"
      },
      "execution_count": 42,
      "outputs": []
    },
    {
      "cell_type": "code",
      "source": [
        "def greeting_node(state: AgentState) -> AgentState:\n",
        "  \"\"\"Greeting Node which says hi to the person\"\"\"\n",
        "  state['name'] = f'Hi there, {state[\"name\"]}'\n",
        "  state['counter'] = 0\n",
        "  return state\n",
        "\n",
        "def random_node(state: AgentState) -> AgentState:\n",
        "  \"\"\"Generates a random number from 0 to 10\"\"\"\n",
        "  state['number'].append(random.randint(0, 10))\n",
        "  state['counter'] += 1\n",
        "  return state\n",
        "\n",
        "def should_continue(state: AgentState) -> AgentState:\n",
        "  \"\"\"Function to decide what to do next\"\"\"\n",
        "  if state['counter'] < 5:\n",
        "    print('ENTERING LOOP', state['counter'])\n",
        "    return 'loop' # continue looping\n",
        "  else:\n",
        "    return 'exit' # exit the loop"
      ],
      "metadata": {
        "id": "hbVM7XqtZRGC"
      },
      "execution_count": 49,
      "outputs": []
    },
    {
      "cell_type": "code",
      "source": [
        "graph = StateGraph(AgentState)\n",
        "\n",
        "graph.add_node('greeting', greeting_node)\n",
        "graph.add_node('random', random_node)\n",
        "graph.add_edge('greeting', 'random')\n",
        "\n",
        "graph.add_conditional_edges(\n",
        "    'random',\n",
        "    should_continue,\n",
        "    {\n",
        "        'loop': 'random',\n",
        "        'exit': END\n",
        "    }\n",
        ")\n",
        "\n",
        "graph.set_entry_point('greeting')\n",
        "\n",
        "app = graph.compile()"
      ],
      "metadata": {
        "id": "4fqlejQOax3r"
      },
      "execution_count": 54,
      "outputs": []
    },
    {
      "cell_type": "code",
      "source": [
        "from IPython.display import Image, display\n",
        "display(Image(app.get_graph().draw_mermaid_png()))"
      ],
      "metadata": {
        "id": "426TokIRbIxl",
        "outputId": "9997da48-196c-4499-d6ad-d9f55cbb2fc8",
        "colab": {
          "base_uri": "https://localhost:8080/",
          "height": 448
        }
      },
      "execution_count": 55,
      "outputs": [
        {
          "output_type": "display_data",
          "data": {
            "image/png": "[encoded data removed]",
            "text/plain": [
              "<IPython.core.display.Image object>"
            ]
          },
          "metadata": {}
        }
      ]
    },
    {
      "cell_type": "code",
      "source": [
        "app.invoke({'name': \"Vaibhav\", 'number': [], 'counter':-1})"
      ],
      "metadata": {
        "id": "isd8sZkPbo9Z",
        "outputId": "7494fb69-20ba-4bdf-9718-55bf69d93c2d",
        "colab": {
          "base_uri": "https://localhost:8080/"
        }
      },
      "execution_count": 56,
      "outputs": [
        {
          "output_type": "stream",
          "name": "stdout",
          "text": [
            "ENTERING LOOP 1\n",
            "ENTERING LOOP 2\n",
            "ENTERING LOOP 3\n",
            "ENTERING LOOP 4\n"
          ]
        },
        {
          "output_type": "execute_result",
          "data": {
            "text/plain": [
              "{'name': 'Hi there, Vaibhav', 'number': [4, 10, 8, 10, 10], 'counter': 5}"
            ]
          },
          "metadata": {},
          "execution_count": 56
        }
      ]
    },
    {
      "cell_type": "code",
      "source": [],
      "metadata": {
        "id": "l3CU8vnNbvCU"
      },
      "execution_count": null,
      "outputs": []
    }
  ]
}