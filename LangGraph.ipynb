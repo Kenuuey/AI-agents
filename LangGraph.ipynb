{
  "nbformat": 4,
  "nbformat_minor": 0,
  "metadata": {
    "colab": {
      "provenance": [],
      "authorship_tag": "ABX9TyO8MBkxB6p++rhtC2v7DdZP",
      "include_colab_link": true
    },
    "kernelspec": {
      "name": "python3",
      "display_name": "Python 3"
    },
    "language_info": {
      "name": "python"
    }
  },
  "cells": [
    {
      "cell_type": "markdown",
      "metadata": {
        "id": "view-in-github",
        "colab_type": "text"
      },
      "source": [
        "<a href=\"https://colab.research.google.com/github/Kenuuey/LLMs/blob/main/LangGraph.ipynb\" target=\"_parent\"><img src=\"https://colab.research.google.com/assets/colab-badge.svg\" alt=\"Open In Colab\"/></a>"
      ]
    },
    {
      "cell_type": "markdown",
      "source": [
        "### Agent 1"
      ],
      "metadata": {
        "id": "Xf_j8oeF_jdj"
      }
    },
    {
      "cell_type": "code",
      "source": [
        "!pip install -qqq langgraph"
      ],
      "metadata": {
        "id": "jreQZJllCfbw",
        "colab": {
          "base_uri": "https://localhost:8080/"
        },
        "outputId": "9b2a0b39-1175-49c5-e8c9-2f0a29d3e6fd"
      },
      "execution_count": 1,
      "outputs": [
        {
          "output_type": "stream",
          "name": "stdout",
          "text": [
            "\u001b[2K     \u001b[90m━━━━━━━━━━━━━━━━━━━━━━━━━━━━━━━━━━━━━━━━\u001b[0m \u001b[32m43.7/43.7 kB\u001b[0m \u001b[31m2.0 MB/s\u001b[0m eta \u001b[36m0:00:00\u001b[0m\n",
            "\u001b[2K   \u001b[90m━━━━━━━━━━━━━━━━━━━━━━━━━━━━━━━━━━━━━━━━\u001b[0m \u001b[32m153.2/153.2 kB\u001b[0m \u001b[31m5.4 MB/s\u001b[0m eta \u001b[36m0:00:00\u001b[0m\n",
            "\u001b[2K   \u001b[90m━━━━━━━━━━━━━━━━━━━━━━━━━━━━━━━━━━━━━━━━\u001b[0m \u001b[32m43.9/43.9 kB\u001b[0m \u001b[31m3.2 MB/s\u001b[0m eta \u001b[36m0:00:00\u001b[0m\n",
            "\u001b[2K   \u001b[90m━━━━━━━━━━━━━━━━━━━━━━━━━━━━━━━━━━━━━━━━\u001b[0m \u001b[32m50.6/50.6 kB\u001b[0m \u001b[31m3.1 MB/s\u001b[0m eta \u001b[36m0:00:00\u001b[0m\n",
            "\u001b[2K   \u001b[90m━━━━━━━━━━━━━━━━━━━━━━━━━━━━━━━━━━━━━━━━\u001b[0m \u001b[32m216.5/216.5 kB\u001b[0m \u001b[31m15.3 MB/s\u001b[0m eta \u001b[36m0:00:00\u001b[0m\n",
            "\u001b[?25h"
          ]
        }
      ]
    },
    {
      "cell_type": "code",
      "source": [
        "from typing import Dict, TypedDict\n",
        "from langgraph.graph import StateGraph"
      ],
      "metadata": {
        "id": "PwujxkBg_mHg"
      },
      "execution_count": 2,
      "outputs": []
    },
    {
      "cell_type": "code",
      "source": [
        "class AgentState(TypedDict): # state schema\n",
        "  message : str\n",
        "\n",
        "\n",
        "def greeting_node(state: AgentState) -> AgentState:\n",
        "  \"\"\"Simple node that adds a greeting message to the state\"\"\"\n",
        "  state['message'] = 'Hey ' + state['message'] + ', how is your day going?'\n",
        "  return state\n",
        "\n",
        "def compliment_node(state: AgentState) -> AgentState:\n",
        "  \"\"\"Node that adds a personalized compliment agent\"\"\"\n",
        "  state['message'] = state['message'] + ' Nice to meet you!'\n",
        "  return state"
      ],
      "metadata": {
        "id": "byIWez-gGY-m"
      },
      "execution_count": null,
      "outputs": []
    },
    {
      "cell_type": "code",
      "source": [
        "graph = StateGraph(AgentState)\n",
        "\n",
        "graph.add_node('greeter', greeting_node)\n",
        "graph.add_node('compliment', compliment_node)\n",
        "\n",
        "graph.add_edge('greeter', 'compliment')\n",
        "\n",
        "graph.set_entry_point('greeter')\n",
        "graph.set_finish_point('greeter')\n",
        "\n",
        "app = graph.compile()"
      ],
      "metadata": {
        "id": "lqsoJbzKDZ8a"
      },
      "execution_count": null,
      "outputs": []
    },
    {
      "cell_type": "code",
      "source": [
        "from IPython.display import Image, display\n",
        "\n",
        "display(Image(app.get_graph().draw_mermaid_png()))"
      ],
      "metadata": {
        "colab": {
          "base_uri": "https://localhost:8080/",
          "height": 350
        },
        "id": "Aqx_x2ZDEWz3",
        "outputId": "678a5ba5-3b67-4cad-838a-293b59e0bc20"
      },
      "execution_count": null,
      "outputs": [
        {
          "output_type": "display_data",
          "data": {
            "image/png": "[encoded data removed]",
            "text/plain": [
              "<IPython.core.display.Image object>"
            ]
          },
          "metadata": {}
        }
      ]
    },
    {
      "cell_type": "code",
      "source": [
        "result = app.invoke({'message': 'Bob'})\n",
        "print(result['message'])"
      ],
      "metadata": {
        "colab": {
          "base_uri": "https://localhost:8080/"
        },
        "id": "o_VoMi5xEgNR",
        "outputId": "7d163138-8fd3-4c93-87f3-35056bb37a81"
      },
      "execution_count": null,
      "outputs": [
        {
          "output_type": "stream",
          "name": "stdout",
          "text": [
            "Hey Bob, how is your day going? Nice to meet you!\n"
          ]
        }
      ]
    },
    {
      "cell_type": "markdown",
      "source": [
        "### Agent 2"
      ],
      "metadata": {
        "id": "8Cci2wpSHA1m"
      }
    },
    {
      "cell_type": "code",
      "source": [
        "from typing import Dict, TypedDict, List\n",
        "from langgraph.graph import StateGraph\n",
        "from functools import reduce\n",
        "from operator import mul\n",
        "import math\n"
      ],
      "metadata": {
        "id": "WVp0MWd_HBwW"
      },
      "execution_count": null,
      "outputs": []
    },
    {
      "cell_type": "code",
      "source": [
        "class AgentState(TypedDict):\n",
        "  name: str\n",
        "  operation: str\n",
        "  values: List[int]\n",
        "  result: str"
      ],
      "metadata": {
        "id": "qRV3hCjVHmSD"
      },
      "execution_count": null,
      "outputs": []
    },
    {
      "cell_type": "code",
      "source": [
        "def process_values(state: AgentState) -> AgentState:\n",
        "  \"\"\"This function handles multiple different inputs\"\"\"\n",
        "  print(state)\n",
        "\n",
        "  if state[\"operation\"] == '+':\n",
        "    state[\"result\"] = f'Hi there {state[\"name\"]}! Your answer = {sum(state[\"values\"])}'\n",
        "  elif state[\"operation\"] == '*':\n",
        "    # state[\"result\"] = f'Hi there {state[\"name\"]}! Your answer = {reduce(mul, state[\"values\"])}'\n",
        "    state[\"result\"] = f'Hi there {state[\"name\"]}! Your answer = {math.prod(state[\"values\"])}'\n",
        "\n",
        "  print(state)\n",
        "  return state"
      ],
      "metadata": {
        "id": "EqFXtoNeILgR"
      },
      "execution_count": null,
      "outputs": []
    },
    {
      "cell_type": "code",
      "source": [
        "graph = StateGraph(AgentState)\n",
        "\n",
        "graph.add_node('processor', process_values)\n",
        "\n",
        "graph.set_entry_point('processor')\n",
        "graph.set_finish_point('processor')\n",
        "\n",
        "app = graph.compile()"
      ],
      "metadata": {
        "id": "GlN_yJ0_ItjH"
      },
      "execution_count": null,
      "outputs": []
    },
    {
      "cell_type": "code",
      "source": [
        "from IPython.display import Image, display\n",
        "display(Image(app.get_graph().draw_mermaid_png()))"
      ],
      "metadata": {
        "colab": {
          "base_uri": "https://localhost:8080/",
          "height": 251
        },
        "id": "4lNAu4m-JAct",
        "outputId": "3ac39653-8bc3-47ab-e0f1-ef4fb1cbc754"
      },
      "execution_count": null,
      "outputs": [
        {
          "output_type": "display_data",
          "data": {
            "image/png": "[encoded data removed]",
            "text/plain": [
              "<IPython.core.display.Image object>"
            ]
          },
          "metadata": {}
        }
      ]
    },
    {
      "cell_type": "code",
      "source": [
        "answers = app.invoke({\"values\": [1, 2, 3, 4], \"name\": \"Steve\", \"operation\": \"+\"})"
      ],
      "metadata": {
        "colab": {
          "base_uri": "https://localhost:8080/"
        },
        "id": "2Ivs9QLRJB1k",
        "outputId": "2b5d3c84-2518-4073-c9f4-aac704f7a398"
      },
      "execution_count": null,
      "outputs": [
        {
          "output_type": "stream",
          "name": "stdout",
          "text": [
            "{'name': 'Steve', 'operation': '+', 'values': [1, 2, 3, 4]}\n",
            "{'name': 'Steve', 'operation': '+', 'values': [1, 2, 3, 4], 'result': 'Hi there Steve! Your answer = 10'}\n"
          ]
        }
      ]
    },
    {
      "cell_type": "code",
      "source": [
        "print(answers['result'])"
      ],
      "metadata": {
        "colab": {
          "base_uri": "https://localhost:8080/"
        },
        "id": "B3wK5A5WKvm2",
        "outputId": "f59f597d-c379-4130-c475-6938213c5688"
      },
      "execution_count": null,
      "outputs": [
        {
          "output_type": "stream",
          "name": "stdout",
          "text": [
            "Hi there Steve! Your answer = 10\n"
          ]
        }
      ]
    },
    {
      "cell_type": "code",
      "source": [
        "answers = app.invoke({\"values\": [1, 2, 3, 4], \"name\": \"Steve\", \"operation\": \"*\"})"
      ],
      "metadata": {
        "colab": {
          "base_uri": "https://localhost:8080/"
        },
        "id": "nGqfwKlTMYgn",
        "outputId": "2dcb74d3-45e1-4a63-ab18-a4d6f80713bd"
      },
      "execution_count": null,
      "outputs": [
        {
          "output_type": "stream",
          "name": "stdout",
          "text": [
            "{'name': 'Steve', 'operation': '*', 'values': [1, 2, 3, 4]}\n",
            "{'name': 'Steve', 'operation': '*', 'values': [1, 2, 3, 4], 'result': 'Hi there Steve! Your answer = 24'}\n"
          ]
        }
      ]
    },
    {
      "cell_type": "code",
      "source": [
        "print(answers['result'])"
      ],
      "metadata": {
        "colab": {
          "base_uri": "https://localhost:8080/"
        },
        "id": "5glIEv-8MZVM",
        "outputId": "a8ae2ad4-36e8-4ccb-930d-ce8d26283fa9"
      },
      "execution_count": null,
      "outputs": [
        {
          "output_type": "stream",
          "name": "stdout",
          "text": [
            "Hi there Steve! Your answer = 24\n"
          ]
        }
      ]
    },
    {
      "cell_type": "markdown",
      "source": [
        "### Agent 3"
      ],
      "metadata": {
        "id": "Y-MhQkj2Ny8h"
      }
    },
    {
      "cell_type": "code",
      "source": [
        "from typing import TypedDict, List\n",
        "from langgraph.graph import StateGraph"
      ],
      "metadata": {
        "id": "BMVDW61INz71"
      },
      "execution_count": 71,
      "outputs": []
    },
    {
      "cell_type": "code",
      "source": [
        "class AgentState(TypedDict):\n",
        "  name: str\n",
        "  age: str\n",
        "  skills: List[str]\n",
        "  final: str"
      ],
      "metadata": {
        "id": "4jwe_FDGds63"
      },
      "execution_count": 84,
      "outputs": []
    },
    {
      "cell_type": "code",
      "source": [
        "def first_node(state: AgentState) -> AgentState:\n",
        "  \"\"\"This is the first node of our sequence\"\"\"\n",
        "  state[\"final\"] = f\"Hi {state['name']}!\"\n",
        "  return state\n",
        "\n",
        "def second_node(state: AgentState) -> AgentState:\n",
        "  \"\"\"This is the second node of our sequence\"\"\"\n",
        "  state[\"final\"] += f\" You are {state['age']} years old!\"\n",
        "  return state\n",
        "\n",
        "def third_node(state: AgentState) -> AgentState:\n",
        "  \"\"\"This is the third node of our sequence\"\"\"\n",
        "  if state['skills']:\n",
        "        skills_str = \", \".join(state['skills'])\n",
        "        state[\"final\"] += f\" You have skills in {skills_str}.\"\n",
        "  else:\n",
        "      state[\"final\"] += \" You have no listed skills.\"\n",
        "  return state"
      ],
      "metadata": {
        "id": "I6G8TnsNd2Fg"
      },
      "execution_count": 85,
      "outputs": []
    },
    {
      "cell_type": "code",
      "source": [
        "graph = StateGraph(AgentState)\n",
        "\n",
        "graph.add_node(\"first_node\", first_node)\n",
        "graph.add_node(\"second_node\", second_node)\n",
        "graph.add_node(\"third_node\", third_node)\n",
        "\n",
        "graph.set_entry_point(\"first_node\")\n",
        "graph.add_edge(\"first_node\", \"second_node\")\n",
        "graph.add_edge(\"second_node\", \"third_node\")\n",
        "graph.set_finish_point(\"third_node\")\n",
        "\n",
        "app = graph.compile()"
      ],
      "metadata": {
        "id": "wsR78XUsepqt"
      },
      "execution_count": 86,
      "outputs": []
    },
    {
      "cell_type": "code",
      "source": [
        "from IPython.display import Image, display\n",
        "display(Image(app.get_graph().draw_mermaid_png()))"
      ],
      "metadata": {
        "colab": {
          "base_uri": "https://localhost:8080/",
          "height": 449
        },
        "id": "u5hny5O_fSms",
        "outputId": "a953031c-b4c1-48e9-b126-defbff72bfa3"
      },
      "execution_count": 87,
      "outputs": [
        {
          "output_type": "display_data",
          "data": {
            "image/png": "[encoded data removed]",
            "text/plain": [
              "<IPython.core.display.Image object>"
            ]
          },
          "metadata": {}
        }
      ]
    },
    {
      "cell_type": "code",
      "source": [
        "result = app.invoke({\"name\": \"Charlie\", \"age\": \"20\", \"skills\": list()})\n",
        "print(result['final'])"
      ],
      "metadata": {
        "colab": {
          "base_uri": "https://localhost:8080/"
        },
        "id": "WIWOa0YUfmtO",
        "outputId": "933396e1-26cc-4443-82d0-2182d329080a"
      },
      "execution_count": 88,
      "outputs": [
        {
          "output_type": "stream",
          "name": "stdout",
          "text": [
            "Hi Charlie! You are 20 years old! You have no listed skills.\n"
          ]
        }
      ]
    },
    {
      "cell_type": "code",
      "source": [
        "result = app.invoke({\"name\": \"Linda\", \"age\": \"31\", \"skills\": ['Python', 'Machine Learning', 'LangGraph']})\n",
        "print(result['final'])"
      ],
      "metadata": {
        "colab": {
          "base_uri": "https://localhost:8080/"
        },
        "id": "Xzorl2jdfxkH",
        "outputId": "781cd4f8-dc04-46a1-f53b-f734896e5d95"
      },
      "execution_count": 89,
      "outputs": [
        {
          "output_type": "stream",
          "name": "stdout",
          "text": [
            "Hi Linda! You are 31 years old! You have skills in Python, Machine Learning, LangGraph.\n"
          ]
        }
      ]
    },
    {
      "cell_type": "markdown",
      "source": [
        "### Agent 4"
      ],
      "metadata": {
        "id": "PTrw3-67kEnH"
      }
    },
    {
      "cell_type": "code",
      "source": [
        "from typing import TypedDict\n",
        "from langgraph.graph import StateGraph, START, END"
      ],
      "metadata": {
        "id": "imOH1STnkHnt"
      },
      "execution_count": 90,
      "outputs": []
    },
    {
      "cell_type": "code",
      "source": [
        "class AgentState(TypedDict):\n",
        "  number1: int\n",
        "  operation: str\n",
        "  number2: int\n",
        "  finalNumber: int"
      ],
      "metadata": {
        "id": "zsdaFoeHkkk0"
      },
      "execution_count": 91,
      "outputs": []
    },
    {
      "cell_type": "code",
      "source": [
        "def adder(state: AgentState) -> AgentState:\n",
        "  \"\"\"This node adds the 2 numbers\"\"\"\n",
        "  state['finalNumber'] = state['number1'] + state['number2']\n",
        "  return state\n",
        "\n",
        "def subtractor(state: AgentState) -> AgentState:\n",
        "  \"\"\"This node subtracts the 2 numbers\"\"\"\n",
        "  state['finalNumber'] = state['number1'] - state['number2']\n",
        "  return state\n",
        "\n",
        "def decide_next_node(state: AgentState) -> AgentState:\n",
        "  \"\"\"This node will select the next node of the graph\"\"\"\n",
        "  if state['operation'] == '+':\n",
        "    return \"addition_operation\"\n",
        "  elif state['operation'] == '-':\n",
        "    return \"subtract_operation\""
      ],
      "metadata": {
        "id": "h7PG_7OUkyvr"
      },
      "execution_count": 99,
      "outputs": []
    },
    {
      "cell_type": "code",
      "source": [
        "graph = StateGraph(AgentState)\n",
        "\n",
        "graph.add_node(\"add_node\", adder)\n",
        "graph.add_node('subtract_node', subtractor)\n",
        "graph.add_node(\"router\", lambda state: state) # passthrough functon\n",
        "\n",
        "graph.add_edge(START, 'router')\n",
        "\n",
        "graph.add_conditional_edges(\n",
        "    'router',\n",
        "    decide_next_node,\n",
        "    {\n",
        "      'addition_operation': 'add_node',\n",
        "      'subtract_operation': 'subtract_node'\n",
        "    }\n",
        ")\n",
        "\n",
        "graph.add_edge('add_node', END)\n",
        "graph.add_edge('subtract_node', END)\n",
        "\n",
        "app = graph.compile()"
      ],
      "metadata": {
        "id": "vNE4CdHsl8Xh"
      },
      "execution_count": 100,
      "outputs": []
    },
    {
      "cell_type": "code",
      "source": [
        "from IPython.display import Image, display\n",
        "display(Image(app.get_graph().draw_mermaid_png()))"
      ],
      "metadata": {
        "colab": {
          "base_uri": "https://localhost:8080/",
          "height": 374
        },
        "id": "65zbOO5iwb6I",
        "outputId": "2c7bd470-c342-47ef-9bb2-9bd638e14779"
      },
      "execution_count": 101,
      "outputs": [
        {
          "output_type": "display_data",
          "data": {
            "image/png": "[encoded data removed]",
            "text/plain": [
              "<IPython.core.display.Image object>"
            ]
          },
          "metadata": {}
        }
      ]
    },
    {
      "cell_type": "code",
      "source": [
        "initial_state_1 = AgentState(number1=10, operation='-', number2=5)\n",
        "print(app.invoke(initial_state_1))"
      ],
      "metadata": {
        "colab": {
          "base_uri": "https://localhost:8080/"
        },
        "id": "kz091NowwcLU",
        "outputId": "2ce7dbc8-c614-4351-ddc2-e58080572cbb"
      },
      "execution_count": 102,
      "outputs": [
        {
          "output_type": "stream",
          "name": "stdout",
          "text": [
            "{'number1': 10, 'operation': '-', 'number2': 5, 'finalNumber': 5}\n"
          ]
        }
      ]
    }
  ]
}