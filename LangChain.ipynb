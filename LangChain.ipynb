{
  "nbformat": 4,
  "nbformat_minor": 0,
  "metadata": {
    "colab": {
      "provenance": [],
      "mount_file_id": "1DCa_UhCjYk42cGkKmSDdlFmw_DG_omP6",
      "authorship_tag": "ABX9TyNYrYkxiGnWW7+RKbozMHwp",
      "include_colab_link": true
    },
    "kernelspec": {
      "name": "python3",
      "display_name": "Python 3"
    },
    "language_info": {
      "name": "python"
    }
  },
  "cells": [
    {
      "cell_type": "markdown",
      "metadata": {
        "id": "view-in-github",
        "colab_type": "text"
      },
      "source": [
        "<a href=\"https://colab.research.google.com/github/Kenuuey/LLMs/blob/main/LangChain.ipynb\" target=\"_parent\"><img src=\"https://colab.research.google.com/assets/colab-badge.svg\" alt=\"Open In Colab\"/></a>"
      ]
    },
    {
      "cell_type": "markdown",
      "source": [
        "### 1"
      ],
      "metadata": {
        "id": "B3D86J7EDsp9"
      }
    },
    {
      "cell_type": "code",
      "source": [
        "!pip install -qq langchain langchain_community langchain_huggingface"
      ],
      "metadata": {
        "id": "vRXbRlxyD1Js"
      },
      "execution_count": 57,
      "outputs": []
    },
    {
      "cell_type": "code",
      "source": [
        "import os\n",
        "from API_KEYS import HF_TOKEN\n",
        "from huggingface_hub import InferenceClient\n",
        "\n",
        "os.environ['HF_TOKEN'] = HF_TOKEN\n",
        "\n",
        "client = InferenceClient(token=os.environ[\"HF_TOKEN\"])\n",
        "\n",
        "completion = client.chat.completions.create(\n",
        "    model=\"deepseek-ai/DeepSeek-V3-0324\",\n",
        "    messages=[\n",
        "        {\"role\": \"user\", \"content\": \"I want to open a American restaurant. Suggest a fancy name.\"}\n",
        "    ]\n",
        ")\n",
        "\n",
        "print(completion.choices[0].message[\"content\"])"
      ],
      "metadata": {
        "colab": {
          "base_uri": "https://localhost:8080/"
        },
        "id": "0KpJyew_EmMl",
        "outputId": "78c81581-e651-4f9e-8a39-6193493d915e"
      },
      "execution_count": 58,
      "outputs": [
        {
          "output_type": "stream",
          "name": "stdout",
          "text": [
            "Here are some sophisticated and fancy name ideas for your American restaurant:  \n",
            "\n",
            "1. **The Grand Oak** – Evokes elegance and tradition.  \n",
            "2. **Monroe’s Supper Club** – A stylish nod to classic American supper clubs.  \n",
            "3. **Elysian Bistro** – Inspired by luxury and paradise.  \n",
            "4. **Belle Vue** – French for \"beautiful view,\" blending sophistication with American charm.  \n",
            "5. **The Federalist** – A refined take on American heritage.  \n",
            "6. **Opal & Rye** – A chic and upscale pairing of gemstone and whiskey.  \n",
            "7. **The Gilded Fork** – A luxurious twist on fine dining.  \n",
            "8. **Marquis 47** – A regal name with a modern touch.  \n",
            "9. **Savannah & Grace** – Elegant and warm, like Southern hospitality.  \n",
            "10. **Aurelia** – Meaning \"golden,\" signifying premium dining.  \n",
            "\n",
            "Would you like any of these tailored to a specific theme (Southern, steakhouse, fine dining, etc.)?\n"
          ]
        }
      ]
    },
    {
      "cell_type": "code",
      "source": [
        "from langchain_core.messages import (\n",
        "    HumanMessage,\n",
        "    SystemMessage,\n",
        ")\n",
        "\n",
        "messages = [\n",
        "    SystemMessage(content=\"You're a helpful assistant\"),\n",
        "    HumanMessage(\n",
        "        content=\"What happens when an unstoppable force meets an immovable object?\"\n",
        "    ),\n",
        "]\n",
        "\n",
        "ai_msg = chat_model.invoke(messages)"
      ],
      "metadata": {
        "id": "-7eA1hjKPJcU"
      },
      "execution_count": 70,
      "outputs": []
    },
    {
      "cell_type": "code",
      "source": [
        "ai_msg"
      ],
      "metadata": {
        "colab": {
          "base_uri": "https://localhost:8080/"
        },
        "id": "lkIyDuMzPMyl",
        "outputId": "72f2f243-1224-43d2-c032-ba5f300396fe"
      },
      "execution_count": 76,
      "outputs": [
        {
          "output_type": "execute_result",
          "data": {
            "text/plain": [
              "AIMessage(content='The scenario of an unstoppable force meeting an immovable object is a classic philosophical paradox that highlights the contradictions inherent in the definitions of the two entities. Here\\'s what happens when we analyze it:\\n\\n1. **Logical Paradox**: By definition, an unstoppable force cannot be stopped by any object, and an immovable object cannot be moved by any force. If they interact, the definitions create a contradiction:\\n   - If the force moves the object, then the object was not immovable.\\n   - If the object stops the force, then the force was not unstoppable.\\n\\n2. **Resolution in Physics**: In the real world, such concepts cannot exist due to the laws of physics:\\n   - An unstoppable force would imply infinite energy, which is impossible under our current understanding of the universe.\\n   - An immovable object would imply infinite inertia, which is equally impossible.\\n   - In reality, forces and objects interact in ways that conserve energy and momentum, meaning no force is truly unstoppable and no object is perfectly immovable.\\n\\n3. **Philosophical Interpretation**: The paradox serves as a thought experiment to explore concepts like infinity, definitions, and the nature of contradictions. It shows how certain ideas break down when pushed to absolute extremes.\\n\\n4. **Pop Culture**: The phrase is often used metaphorically to describe a confrontation where neither side can yield (e.g., an unstoppable hero vs. an immovable villain). In such cases, the \"resolution\" is typically a creative or unexpected outcome that circumvents the paradox.\\n\\nIn summary, the paradox has no solution within its own terms because the definitions are mutually exclusive. It’s a useful tool for discussing limits, but it cannot physically or logically occur.', additional_kwargs={}, response_metadata={'token_usage': {'completion_tokens': 352, 'prompt_tokens': 22, 'total_tokens': 374}, 'model_name': 'deepseek-ai/DeepSeek-V3-0324', 'system_fingerprint': None, 'finish_reason': 'stop', 'logprobs': None}, id='run--3120a1f0-59ec-4c55-83e9-b9b3db233668-0', usage_metadata={'input_tokens': 22, 'output_tokens': 352, 'total_tokens': 374})"
            ]
          },
          "metadata": {},
          "execution_count": 76
        }
      ]
    },
    {
      "cell_type": "markdown",
      "source": [
        "### 2"
      ],
      "metadata": {
        "id": "n8XOl7MDD0ow"
      }
    },
    {
      "cell_type": "code",
      "source": [
        "from langchain.prompts import PromptTemplate\n",
        "from langchain_huggingface import HuggingFaceEndpoint\n",
        "from langchain.chains import LLMChain\n",
        "\n",
        "llm = HuggingFaceEndpoint(\n",
        "    repo_id=\"deepseek-ai/DeepSeek-V3-0324\",\n",
        "    task=\"conversational\",\n",
        "    max_new_tokens=512,\n",
        ")\n",
        "\n",
        "name_prompt = PromptTemplate(\n",
        "    input_variables=[\"cuisine\"],\n",
        "    template=\"I want to open a {cuisine} restaurant. Suggest a fancy name.\"\n",
        ")\n",
        "name_chain = LLMChain(llm=llm, prompt=name_prompt)\n",
        "\n",
        "menu_prompt = PromptTemplate(\n",
        "    input_variables=[\"restaurant_name\"],\n",
        "    template=\"The restaurant name is {restaurant_name}. Suggest some menu items.\"\n",
        ")\n",
        "menu_chain = LLMChain(llm=llm, prompt=menu_prompt)\n",
        "\n",
        "restaurant_name = name_chain.invoke({\"cuisine\": \"Arabic\"})\n",
        "menu_items = menu_chain.invoke({\"restaurant_name\": restaurant_name})\n",
        "\n",
        "print(\"Restaurant name:\", restaurant_name)\n",
        "print(\"Menu items:\", menu_items)"
      ],
      "metadata": {
        "id": "dBWocFq3UDIk"
      },
      "execution_count": 110,
      "outputs": []
    },
    {
      "cell_type": "markdown",
      "source": [
        "### 3"
      ],
      "metadata": {
        "id": "hNr4GipwX3A1"
      }
    },
    {
      "cell_type": "code",
      "source": [
        "!pip install wikipedia"
      ],
      "metadata": {
        "id": "1bVpregWYOoZ"
      },
      "execution_count": 116,
      "outputs": []
    },
    {
      "cell_type": "code",
      "source": [
        "from langchain.agents import AgentType, initialize_agent, load_tools\n",
        "\n",
        "tools = load_tools(['wikipedia', 'llm-math'], llm=llm)\n",
        "\n",
        "agent = initialize_agent(\n",
        "    tools,\n",
        "    llm,\n",
        "    agent=AgentType.ZERO_SHOT_REACT_DESCRIPTION\n",
        ")\n",
        "\n",
        "agent.run(\"When was Elon Musk born? What is his age right now in 2025?\")"
      ],
      "metadata": {
        "id": "wCyb33LIX3hN"
      },
      "execution_count": 115,
      "outputs": []
    }
  ]
}